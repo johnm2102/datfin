{
 "cells": [
  {
   "cell_type": "code",
   "execution_count": 52,
   "id": "2a500609",
   "metadata": {},
   "outputs": [],
   "source": [
    "import pandas as pd\n",
    "import pandas_datareader as pdr\n",
    "import datetime as dt\n",
    "import numpy as np\n",
    "import matplotlib.pyplot as plt\n",
    "\n",
    "start_date = dt.datetime(2000,1,1)\n",
    "end_date = dt.datetime(2020,1,1)\n",
    "\n",
    "GSPC = pd.DataFrame(pdr.get_data_yahoo('^GSPC', start_date, end_date, interval='m')['Adj Close']) #500 companies USA (S&P_500), USD\n",
    "MXX = pd.DataFrame(pdr.get_data_yahoo('^MXX', start_date, end_date, interval='m')['Adj Close']) #Mexico exchange, currency in MXN\n",
    "FCHI = pd.DataFrame(pdr.get_data_yahoo('^FCHI', start_date, end_date, interval='m')['Adj Close']) # France exchange,currency in EUR\n",
    "NYA = pd.DataFrame(pdr.get_data_yahoo('^NYA', start_date, end_date, interval='m')['Adj Close']) #New york stock exhance, USD\n",
    "JKSE = pd.DataFrame(pdr.get_data_yahoo('^JKSE', start_date, end_date, interval='m')['Adj Close'])#Jakarta exchange, currency in IDR\n",
    "RUT = pd.DataFrame(pdr.get_data_yahoo('^RUT', start_date, end_date, interval='m')['Adj Close'])#2000 small companies, USD\n",
    "KS11 = pd.DataFrame(pdr.get_data_yahoo('^KS11', start_date, end_date, interval='m')['Adj Close']) #Korea exchange, currency in KRW"
   ]
  },
  {
   "cell_type": "code",
   "execution_count": 53,
   "id": "973db888",
   "metadata": {},
   "outputs": [
    {
     "data": {
      "text/plain": [
       "(241, 241, 241, 241, 241, 241, 241)"
      ]
     },
     "execution_count": 53,
     "metadata": {},
     "output_type": "execute_result"
    }
   ],
   "source": [
    "#check length\n",
    "len(GSPC), len(MXX), len(FCHI), len(NYA), len(JKSE), len(RUT), len(KS11)"
   ]
  },
  {
   "cell_type": "code",
   "execution_count": 54,
   "id": "c61169ca",
   "metadata": {},
   "outputs": [],
   "source": [
    "# convert in USD, we will use fixed rates\n",
    "\n",
    "for i in range(241):\n",
    "    MXX.iloc[i]['Adj Close']  =  MXX.iloc[i]['Adj Close'] * 0.05\n",
    "    FCHI.iloc[i]['Adj Close'] = FCHI.iloc[i]['Adj Close'] * 1.06\n",
    "    JKSE.iloc[i]['Adj Close'] = JKSE.iloc[i]['Adj Close'] * 0.000064\n",
    "    KS11.iloc[i]['Adj Close'] = KS11.iloc[i]['Adj Close'] * 0.000773"
   ]
  },
  {
   "cell_type": "code",
   "execution_count": 56,
   "id": "56853a4e",
   "metadata": {},
   "outputs": [
    {
     "data": {
      "text/plain": [
       "(              Adj Close\n",
       " Date                   \n",
       " 2000-01-01  1394.459961\n",
       " 2000-02-01  1366.420044\n",
       " 2000-03-01  1498.579956\n",
       " 2000-04-01  1452.430054\n",
       " 2000-05-01  1420.599976\n",
       " ...                 ...\n",
       " 2019-09-01  2976.739990\n",
       " 2019-10-01  3037.560059\n",
       " 2019-11-01  3140.979980\n",
       " 2019-12-01  3230.780029\n",
       " 2020-01-01  3225.520020\n",
       " \n",
       " [241 rows x 1 columns],\n",
       "               Adj Close\n",
       " Date                   \n",
       " 2000-01-01   329.283496\n",
       " 2000-02-01   368.427490\n",
       " 2000-03-01   373.662500\n",
       " 2000-04-01   332.034009\n",
       " 2000-05-01   298.057007\n",
       " ...                 ...\n",
       " 2019-09-01  2150.563477\n",
       " 2019-10-01  2166.864063\n",
       " 2019-11-01  2141.008984\n",
       " 2019-12-01  2177.050977\n",
       " 2020-01-01  2205.415430\n",
       " \n",
       " [241 rows x 1 columns],\n",
       "             Adj Close\n",
       " Date                 \n",
       " 1999-12-31   0.729619\n",
       " 2000-01-31   0.640338\n",
       " 2000-02-29   0.665507\n",
       " 2000-03-31   0.560726\n",
       " 2000-04-30   0.565743\n",
       " ...               ...\n",
       " 2019-08-31   1.594738\n",
       " 2019-09-30   1.610530\n",
       " 2019-10-31   1.613993\n",
       " 2019-11-30   1.698799\n",
       " 2019-12-31   1.637995\n",
       " \n",
       " [241 rows x 1 columns],\n",
       "               Adj Close\n",
       " Date                   \n",
       " 1999-12-31  5999.398662\n",
       " 2000-01-31  6562.417559\n",
       " 2000-02-29  6663.212793\n",
       " 2000-03-31  6804.903428\n",
       " 2000-04-30  6811.835352\n",
       " ...                 ...\n",
       " 2019-08-31  6018.457441\n",
       " 2019-09-30  6073.651455\n",
       " 2019-10-31  6259.480117\n",
       " 2019-11-30  6336.743662\n",
       " 2019-12-31  6154.720234\n",
       " \n",
       " [241 rows x 1 columns])"
      ]
     },
     "execution_count": 56,
     "metadata": {},
     "output_type": "execute_result"
    }
   ],
   "source": [
    "GSPC, MXX, KS11, FCHI"
   ]
  }
 ],
 "metadata": {
  "kernelspec": {
   "display_name": "Python 3 (ipykernel)",
   "language": "python",
   "name": "python3"
  },
  "language_info": {
   "codemirror_mode": {
    "name": "ipython",
    "version": 3
   },
   "file_extension": ".py",
   "mimetype": "text/x-python",
   "name": "python",
   "nbconvert_exporter": "python",
   "pygments_lexer": "ipython3",
   "version": "3.10.5"
  }
 },
 "nbformat": 4,
 "nbformat_minor": 5
}
