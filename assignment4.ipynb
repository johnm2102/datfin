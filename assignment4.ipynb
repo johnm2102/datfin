{
 "cells": [
  {
   "cell_type": "code",
   "execution_count": 1,
   "id": "877bd229",
   "metadata": {},
   "outputs": [],
   "source": [
    "#example slide"
   ]
  },
  {
   "cell_type": "code",
   "execution_count": 3,
   "id": "973d87af",
   "metadata": {},
   "outputs": [],
   "source": [
    "import numpy as np\n",
    "returns = np.array([0.1, 0.08])\n",
    "sigma_1 = 0.2\n",
    "sigma_2 = 0.1\n",
    "rho1_2 = 0.5\n",
    "Rf = 0.05"
   ]
  },
  {
   "cell_type": "code",
   "execution_count": 14,
   "id": "f2d75bc9",
   "metadata": {},
   "outputs": [],
   "source": [
    "a = np.array([returns, returns])"
   ]
  },
  {
   "cell_type": "code",
   "execution_count": 15,
   "id": "6a11f4d0",
   "metadata": {},
   "outputs": [
    {
     "data": {
      "text/plain": [
       "array([[0.0002, 0.0002],\n",
       "       [0.0002, 0.0002]])"
      ]
     },
     "execution_count": 15,
     "metadata": {},
     "output_type": "execute_result"
    }
   ],
   "source": [
    "np.cov(a)"
   ]
  },
  {
   "cell_type": "code",
   "execution_count": 20,
   "id": "d9a0c0d9",
   "metadata": {},
   "outputs": [
    {
     "data": {
      "text/plain": [
       "0.010000000000000002"
      ]
     },
     "execution_count": 20,
     "metadata": {},
     "output_type": "execute_result"
    }
   ],
   "source": [
    "rho1_2 * sigma_1*sigma_2"
   ]
  },
  {
   "cell_type": "code",
   "execution_count": 21,
   "id": "ff5b33bc",
   "metadata": {},
   "outputs": [],
   "source": [
    "cov_matrix = np.zeros((2,2))\n",
    "cov_matrix[0][0] = sigma_1**2\n",
    "cov_matrix[0][1] = rho1_2 * sigma_1*sigma_2\n",
    "cov_matrix[1][0] = rho1_2 * sigma_1*sigma_2\n",
    "cov_matrix[1][1] = sigma_2**2"
   ]
  },
  {
   "cell_type": "code",
   "execution_count": 22,
   "id": "1c6d9443",
   "metadata": {},
   "outputs": [
    {
     "data": {
      "text/plain": [
       "array([[0.04, 0.01],\n",
       "       [0.01, 0.01]])"
      ]
     },
     "execution_count": 22,
     "metadata": {},
     "output_type": "execute_result"
    }
   ],
   "source": [
    "cov_matrix"
   ]
  },
  {
   "cell_type": "code",
   "execution_count": 68,
   "id": "ee894c1b",
   "metadata": {},
   "outputs": [],
   "source": [
    "final_matrix = np.zeros((3,3))"
   ]
  },
  {
   "cell_type": "code",
   "execution_count": 69,
   "id": "55b8a86e",
   "metadata": {},
   "outputs": [],
   "source": [
    "final_matrix[0][0] = 2*(sigma_1**2)\n",
    "final_matrix[0][1] = round(2*cov_matrix[0][1], 2)\n",
    "final_matrix[0][2] = -(returns[0] - Rf)\n",
    "\n",
    "final_matrix[1][0] = 2*sigma_2**2\n",
    "final_matrix[1][1] = round(2*cov_matrix[0][1], 2)\n",
    "final_matrix[1][2] = -(returns[1] - Rf)\n",
    "\n",
    "final_matrix[2][0] = returns[0] - Rf\n",
    "final_matrix[2][1] = returns[1] - Rf\n",
    "final_matrix[2][2] = 0"
   ]
  },
  {
   "cell_type": "code",
   "execution_count": 70,
   "id": "18dfed6a",
   "metadata": {},
   "outputs": [
    {
     "data": {
      "text/plain": [
       "array([[ 0.08,  0.02, -0.05],\n",
       "       [ 0.02,  0.02, -0.03],\n",
       "       [ 0.05,  0.03,  0.  ]])"
      ]
     },
     "execution_count": 70,
     "metadata": {},
     "output_type": "execute_result"
    }
   ],
   "source": [
    "final_matrix"
   ]
  },
  {
   "cell_type": "code",
   "execution_count": 71,
   "id": "c234e404",
   "metadata": {},
   "outputs": [],
   "source": [
    "results = np.array([0, 0, 0.02])"
   ]
  },
  {
   "cell_type": "code",
   "execution_count": 72,
   "id": "5e30b92e",
   "metadata": {},
   "outputs": [],
   "source": [
    "x = np.linalg.solve(final_matrix, results)"
   ]
  },
  {
   "cell_type": "code",
   "execution_count": 73,
   "id": "062b9d78",
   "metadata": {},
   "outputs": [
    {
     "data": {
      "text/plain": [
       "array([0.12903226, 0.4516129 , 0.38709677])"
      ]
     },
     "execution_count": 73,
     "metadata": {},
     "output_type": "execute_result"
    }
   ],
   "source": [
    "x"
   ]
  },
  {
   "cell_type": "code",
   "execution_count": 78,
   "id": "79831bc0",
   "metadata": {},
   "outputs": [
    {
     "name": "stdout",
     "output_type": "stream",
     "text": [
      "Equation 1:\n",
      "Eq(-0.05*l + 0.08*x + 0.02*y, 0.0)\n",
      "Equation 2\n",
      "Eq(-0.03*l + 0.02*x + 0.02*y, 0.0)\n",
      "Equation 3\n",
      "Eq(0.05*x + 0.03*y, 0.02)\n",
      "Values of 2 unknown variable are as follows:\n",
      "{x: 0.129032258064516, y: 0.451612903225806, l: 0.387096774193548}\n"
     ]
    }
   ],
   "source": [
    "\n",
    "# importing library sympy\n",
    "from sympy import symbols, Eq, solve\n",
    "x, y, l = symbols('x,y,l')\n",
    "  \n",
    "# defining equations\n",
    "eq1 = Eq((final_matrix[0][0]*x + final_matrix[0][1]*y + final_matrix[0][2]*l), results[0])\n",
    "print(\"Equation 1:\")\n",
    "print(eq1)\n",
    "eq2 = Eq((final_matrix[1][0]*x + final_matrix[1][1]*y +final_matrix[1][2]*l), results[1])\n",
    "print(\"Equation 2\")\n",
    "print(eq2)\n",
    "eq3 = Eq((final_matrix[2][0]*x + final_matrix[2][1]*y +final_matrix[2][2]*l), results[2])\n",
    "print(\"Equation 3\")\n",
    "print(eq3)\n",
    "  \n",
    "# solving the equation\n",
    "print(\"Values of 2 unknown variable are as follows:\")\n",
    "  \n",
    "print(solve((eq1, eq2,eq3), (x, y, l)))"
   ]
  },
  {
   "cell_type": "code",
   "execution_count": null,
   "id": "bb3050d2",
   "metadata": {},
   "outputs": [],
   "source": []
  }
 ],
 "metadata": {
  "kernelspec": {
   "display_name": "Python 3 (ipykernel)",
   "language": "python",
   "name": "python3"
  },
  "language_info": {
   "codemirror_mode": {
    "name": "ipython",
    "version": 3
   },
   "file_extension": ".py",
   "mimetype": "text/x-python",
   "name": "python",
   "nbconvert_exporter": "python",
   "pygments_lexer": "ipython3",
   "version": "3.10.5"
  }
 },
 "nbformat": 4,
 "nbformat_minor": 5
}
