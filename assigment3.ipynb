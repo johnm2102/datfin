{
 "cells": [
  {
   "cell_type": "code",
   "execution_count": 1,
   "id": "4b113c3e",
   "metadata": {},
   "outputs": [],
   "source": [
    "#import yfinance as yf\n",
    "from yahoofinancials import YahooFinancials\n",
    "import pandas as pd\n",
    "\n",
    "yahoo_financials = YahooFinancials('MCD')\n",
    "\n",
    "data = yahoo_financials.get_historical_price_data(start_date='1991-01-01', \n",
    "                                                  end_date='2001-01-01', \n",
    "                                                  time_interval='weekly')"
   ]
  },
  {
   "cell_type": "code",
   "execution_count": 2,
   "id": "fe6e5718",
   "metadata": {},
   "outputs": [],
   "source": [
    "mcdonald = pd.DataFrame(data[\"MCD\"]['prices'])"
   ]
  },
  {
   "cell_type": "code",
   "execution_count": 3,
   "id": "135fc955",
   "metadata": {},
   "outputs": [
    {
     "data": {
      "text/html": [
       "<div>\n",
       "<style scoped>\n",
       "    .dataframe tbody tr th:only-of-type {\n",
       "        vertical-align: middle;\n",
       "    }\n",
       "\n",
       "    .dataframe tbody tr th {\n",
       "        vertical-align: top;\n",
       "    }\n",
       "\n",
       "    .dataframe thead th {\n",
       "        text-align: right;\n",
       "    }\n",
       "</style>\n",
       "<table border=\"1\" class=\"dataframe\">\n",
       "  <thead>\n",
       "    <tr style=\"text-align: right;\">\n",
       "      <th></th>\n",
       "      <th>date</th>\n",
       "      <th>high</th>\n",
       "      <th>low</th>\n",
       "      <th>open</th>\n",
       "      <th>close</th>\n",
       "      <th>volume</th>\n",
       "      <th>adjclose</th>\n",
       "      <th>formatted_date</th>\n",
       "    </tr>\n",
       "  </thead>\n",
       "  <tbody>\n",
       "    <tr>\n",
       "      <th>0</th>\n",
       "      <td>662706000</td>\n",
       "      <td>7.28125</td>\n",
       "      <td>6.81250</td>\n",
       "      <td>7.28125</td>\n",
       "      <td>6.84375</td>\n",
       "      <td>9567200</td>\n",
       "      <td>3.647414</td>\n",
       "      <td>1991-01-01</td>\n",
       "    </tr>\n",
       "    <tr>\n",
       "      <th>1</th>\n",
       "      <td>663310800</td>\n",
       "      <td>7.09375</td>\n",
       "      <td>6.53125</td>\n",
       "      <td>6.84375</td>\n",
       "      <td>6.68750</td>\n",
       "      <td>11749600</td>\n",
       "      <td>3.564138</td>\n",
       "      <td>1991-01-08</td>\n",
       "    </tr>\n",
       "    <tr>\n",
       "      <th>2</th>\n",
       "      <td>663915600</td>\n",
       "      <td>7.37500</td>\n",
       "      <td>6.68750</td>\n",
       "      <td>6.71875</td>\n",
       "      <td>7.18750</td>\n",
       "      <td>20363200</td>\n",
       "      <td>3.830618</td>\n",
       "      <td>1991-01-15</td>\n",
       "    </tr>\n",
       "    <tr>\n",
       "      <th>3</th>\n",
       "      <td>664520400</td>\n",
       "      <td>7.28125</td>\n",
       "      <td>6.90625</td>\n",
       "      <td>7.21875</td>\n",
       "      <td>6.93750</td>\n",
       "      <td>21385600</td>\n",
       "      <td>3.697378</td>\n",
       "      <td>1991-01-22</td>\n",
       "    </tr>\n",
       "    <tr>\n",
       "      <th>4</th>\n",
       "      <td>665125200</td>\n",
       "      <td>7.34375</td>\n",
       "      <td>6.59375</td>\n",
       "      <td>6.71875</td>\n",
       "      <td>7.31250</td>\n",
       "      <td>46176400</td>\n",
       "      <td>3.897236</td>\n",
       "      <td>1991-01-29</td>\n",
       "    </tr>\n",
       "    <tr>\n",
       "      <th>...</th>\n",
       "      <td>...</td>\n",
       "      <td>...</td>\n",
       "      <td>...</td>\n",
       "      <td>...</td>\n",
       "      <td>...</td>\n",
       "      <td>...</td>\n",
       "      <td>...</td>\n",
       "      <td>...</td>\n",
       "    </tr>\n",
       "    <tr>\n",
       "      <th>517</th>\n",
       "      <td>975387600</td>\n",
       "      <td>33.25000</td>\n",
       "      <td>30.43750</td>\n",
       "      <td>31.62500</td>\n",
       "      <td>31.43750</td>\n",
       "      <td>22520400</td>\n",
       "      <td>18.010311</td>\n",
       "      <td>2000-11-28</td>\n",
       "    </tr>\n",
       "    <tr>\n",
       "      <th>518</th>\n",
       "      <td>975992400</td>\n",
       "      <td>31.25000</td>\n",
       "      <td>28.75000</td>\n",
       "      <td>31.25000</td>\n",
       "      <td>29.93750</td>\n",
       "      <td>29583200</td>\n",
       "      <td>17.150967</td>\n",
       "      <td>2000-12-05</td>\n",
       "    </tr>\n",
       "    <tr>\n",
       "      <th>519</th>\n",
       "      <td>976597200</td>\n",
       "      <td>32.56250</td>\n",
       "      <td>30.37500</td>\n",
       "      <td>30.50000</td>\n",
       "      <td>32.31250</td>\n",
       "      <td>33630300</td>\n",
       "      <td>18.511600</td>\n",
       "      <td>2000-12-12</td>\n",
       "    </tr>\n",
       "    <tr>\n",
       "      <th>520</th>\n",
       "      <td>977202000</td>\n",
       "      <td>33.18750</td>\n",
       "      <td>31.37500</td>\n",
       "      <td>32.50000</td>\n",
       "      <td>32.68750</td>\n",
       "      <td>17402900</td>\n",
       "      <td>18.726421</td>\n",
       "      <td>2000-12-19</td>\n",
       "    </tr>\n",
       "    <tr>\n",
       "      <th>521</th>\n",
       "      <td>977806800</td>\n",
       "      <td>34.50000</td>\n",
       "      <td>32.06250</td>\n",
       "      <td>32.62500</td>\n",
       "      <td>34.00000</td>\n",
       "      <td>14108300</td>\n",
       "      <td>19.478354</td>\n",
       "      <td>2000-12-26</td>\n",
       "    </tr>\n",
       "  </tbody>\n",
       "</table>\n",
       "<p>522 rows × 8 columns</p>\n",
       "</div>"
      ],
      "text/plain": [
       "          date      high       low      open     close    volume   adjclose  \\\n",
       "0    662706000   7.28125   6.81250   7.28125   6.84375   9567200   3.647414   \n",
       "1    663310800   7.09375   6.53125   6.84375   6.68750  11749600   3.564138   \n",
       "2    663915600   7.37500   6.68750   6.71875   7.18750  20363200   3.830618   \n",
       "3    664520400   7.28125   6.90625   7.21875   6.93750  21385600   3.697378   \n",
       "4    665125200   7.34375   6.59375   6.71875   7.31250  46176400   3.897236   \n",
       "..         ...       ...       ...       ...       ...       ...        ...   \n",
       "517  975387600  33.25000  30.43750  31.62500  31.43750  22520400  18.010311   \n",
       "518  975992400  31.25000  28.75000  31.25000  29.93750  29583200  17.150967   \n",
       "519  976597200  32.56250  30.37500  30.50000  32.31250  33630300  18.511600   \n",
       "520  977202000  33.18750  31.37500  32.50000  32.68750  17402900  18.726421   \n",
       "521  977806800  34.50000  32.06250  32.62500  34.00000  14108300  19.478354   \n",
       "\n",
       "    formatted_date  \n",
       "0       1991-01-01  \n",
       "1       1991-01-08  \n",
       "2       1991-01-15  \n",
       "3       1991-01-22  \n",
       "4       1991-01-29  \n",
       "..             ...  \n",
       "517     2000-11-28  \n",
       "518     2000-12-05  \n",
       "519     2000-12-12  \n",
       "520     2000-12-19  \n",
       "521     2000-12-26  \n",
       "\n",
       "[522 rows x 8 columns]"
      ]
     },
     "execution_count": 3,
     "metadata": {},
     "output_type": "execute_result"
    }
   ],
   "source": [
    "mcdonald"
   ]
  },
  {
   "cell_type": "code",
   "execution_count": 4,
   "id": "2aebf4b9",
   "metadata": {},
   "outputs": [],
   "source": [
    "yahoo_financials = YahooFinancials('MSFT')\n",
    "\n",
    "data = yahoo_financials.get_historical_price_data(start_date='1991-01-01', \n",
    "                                                  end_date='2001-01-01', \n",
    "                                                  time_interval='weekly')\n",
    "microsoft = pd.DataFrame(data[\"MSFT\"]['prices'])"
   ]
  },
  {
   "cell_type": "code",
   "execution_count": 5,
   "id": "9fe317e5",
   "metadata": {},
   "outputs": [
    {
     "data": {
      "text/html": [
       "<div>\n",
       "<style scoped>\n",
       "    .dataframe tbody tr th:only-of-type {\n",
       "        vertical-align: middle;\n",
       "    }\n",
       "\n",
       "    .dataframe tbody tr th {\n",
       "        vertical-align: top;\n",
       "    }\n",
       "\n",
       "    .dataframe thead th {\n",
       "        text-align: right;\n",
       "    }\n",
       "</style>\n",
       "<table border=\"1\" class=\"dataframe\">\n",
       "  <thead>\n",
       "    <tr style=\"text-align: right;\">\n",
       "      <th></th>\n",
       "      <th>date</th>\n",
       "      <th>high</th>\n",
       "      <th>low</th>\n",
       "      <th>open</th>\n",
       "      <th>close</th>\n",
       "      <th>volume</th>\n",
       "      <th>adjclose</th>\n",
       "      <th>formatted_date</th>\n",
       "    </tr>\n",
       "  </thead>\n",
       "  <tbody>\n",
       "    <tr>\n",
       "      <th>0</th>\n",
       "      <td>662706000</td>\n",
       "      <td>1.079861</td>\n",
       "      <td>1.038194</td>\n",
       "      <td>1.041667</td>\n",
       "      <td>1.039931</td>\n",
       "      <td>236973600</td>\n",
       "      <td>0.650436</td>\n",
       "      <td>1991-01-01</td>\n",
       "    </tr>\n",
       "    <tr>\n",
       "      <th>1</th>\n",
       "      <td>663310800</td>\n",
       "      <td>1.097222</td>\n",
       "      <td>1.013889</td>\n",
       "      <td>1.038194</td>\n",
       "      <td>1.065972</td>\n",
       "      <td>436622400</td>\n",
       "      <td>0.666724</td>\n",
       "      <td>1991-01-08</td>\n",
       "    </tr>\n",
       "    <tr>\n",
       "      <th>2</th>\n",
       "      <td>663915600</td>\n",
       "      <td>1.250000</td>\n",
       "      <td>1.065972</td>\n",
       "      <td>1.065972</td>\n",
       "      <td>1.243056</td>\n",
       "      <td>644428800</td>\n",
       "      <td>0.777483</td>\n",
       "      <td>1991-01-15</td>\n",
       "    </tr>\n",
       "    <tr>\n",
       "      <th>3</th>\n",
       "      <td>664520400</td>\n",
       "      <td>1.305556</td>\n",
       "      <td>1.213542</td>\n",
       "      <td>1.244792</td>\n",
       "      <td>1.281250</td>\n",
       "      <td>494762400</td>\n",
       "      <td>0.801372</td>\n",
       "      <td>1991-01-22</td>\n",
       "    </tr>\n",
       "    <tr>\n",
       "      <th>4</th>\n",
       "      <td>665125200</td>\n",
       "      <td>1.402778</td>\n",
       "      <td>1.250000</td>\n",
       "      <td>1.281250</td>\n",
       "      <td>1.376736</td>\n",
       "      <td>613101600</td>\n",
       "      <td>0.861095</td>\n",
       "      <td>1991-01-29</td>\n",
       "    </tr>\n",
       "    <tr>\n",
       "      <th>...</th>\n",
       "      <td>...</td>\n",
       "      <td>...</td>\n",
       "      <td>...</td>\n",
       "      <td>...</td>\n",
       "      <td>...</td>\n",
       "      <td>...</td>\n",
       "      <td>...</td>\n",
       "      <td>...</td>\n",
       "    </tr>\n",
       "    <tr>\n",
       "      <th>517</th>\n",
       "      <td>975387600</td>\n",
       "      <td>34.875000</td>\n",
       "      <td>27.593750</td>\n",
       "      <td>34.687500</td>\n",
       "      <td>28.218750</td>\n",
       "      <td>613144400</td>\n",
       "      <td>17.649725</td>\n",
       "      <td>2000-11-28</td>\n",
       "    </tr>\n",
       "    <tr>\n",
       "      <th>518</th>\n",
       "      <td>975992400</td>\n",
       "      <td>30.250000</td>\n",
       "      <td>26.125000</td>\n",
       "      <td>29.593750</td>\n",
       "      <td>29.031250</td>\n",
       "      <td>554119600</td>\n",
       "      <td>18.157917</td>\n",
       "      <td>2000-12-05</td>\n",
       "    </tr>\n",
       "    <tr>\n",
       "      <th>519</th>\n",
       "      <td>976597200</td>\n",
       "      <td>30.250000</td>\n",
       "      <td>23.500000</td>\n",
       "      <td>28.906250</td>\n",
       "      <td>23.906250</td>\n",
       "      <td>456755000</td>\n",
       "      <td>14.952427</td>\n",
       "      <td>2000-12-12</td>\n",
       "    </tr>\n",
       "    <tr>\n",
       "      <th>520</th>\n",
       "      <td>977202000</td>\n",
       "      <td>24.000000</td>\n",
       "      <td>20.156250</td>\n",
       "      <td>23.718750</td>\n",
       "      <td>23.218750</td>\n",
       "      <td>542034400</td>\n",
       "      <td>14.522423</td>\n",
       "      <td>2000-12-19</td>\n",
       "    </tr>\n",
       "    <tr>\n",
       "      <th>521</th>\n",
       "      <td>977806800</td>\n",
       "      <td>24.281250</td>\n",
       "      <td>21.500000</td>\n",
       "      <td>23.437500</td>\n",
       "      <td>21.687500</td>\n",
       "      <td>313542200</td>\n",
       "      <td>13.564680</td>\n",
       "      <td>2000-12-26</td>\n",
       "    </tr>\n",
       "  </tbody>\n",
       "</table>\n",
       "<p>522 rows × 8 columns</p>\n",
       "</div>"
      ],
      "text/plain": [
       "          date       high        low       open      close     volume  \\\n",
       "0    662706000   1.079861   1.038194   1.041667   1.039931  236973600   \n",
       "1    663310800   1.097222   1.013889   1.038194   1.065972  436622400   \n",
       "2    663915600   1.250000   1.065972   1.065972   1.243056  644428800   \n",
       "3    664520400   1.305556   1.213542   1.244792   1.281250  494762400   \n",
       "4    665125200   1.402778   1.250000   1.281250   1.376736  613101600   \n",
       "..         ...        ...        ...        ...        ...        ...   \n",
       "517  975387600  34.875000  27.593750  34.687500  28.218750  613144400   \n",
       "518  975992400  30.250000  26.125000  29.593750  29.031250  554119600   \n",
       "519  976597200  30.250000  23.500000  28.906250  23.906250  456755000   \n",
       "520  977202000  24.000000  20.156250  23.718750  23.218750  542034400   \n",
       "521  977806800  24.281250  21.500000  23.437500  21.687500  313542200   \n",
       "\n",
       "      adjclose formatted_date  \n",
       "0     0.650436     1991-01-01  \n",
       "1     0.666724     1991-01-08  \n",
       "2     0.777483     1991-01-15  \n",
       "3     0.801372     1991-01-22  \n",
       "4     0.861095     1991-01-29  \n",
       "..         ...            ...  \n",
       "517  17.649725     2000-11-28  \n",
       "518  18.157917     2000-12-05  \n",
       "519  14.952427     2000-12-12  \n",
       "520  14.522423     2000-12-19  \n",
       "521  13.564680     2000-12-26  \n",
       "\n",
       "[522 rows x 8 columns]"
      ]
     },
     "execution_count": 5,
     "metadata": {},
     "output_type": "execute_result"
    }
   ],
   "source": [
    "microsoft"
   ]
  },
  {
   "cell_type": "code",
   "execution_count": 6,
   "id": "78707170",
   "metadata": {},
   "outputs": [],
   "source": [
    "yahoo_financials = YahooFinancials('KO')\n",
    "\n",
    "data = yahoo_financials.get_historical_price_data(start_date='1991-01-01', \n",
    "                                                  end_date='2001-01-01', \n",
    "                                                  time_interval='weekly')\n",
    "coca_cola = pd.DataFrame(data[\"KO\"]['prices'])"
   ]
  },
  {
   "cell_type": "code",
   "execution_count": 7,
   "id": "17a7c02c",
   "metadata": {},
   "outputs": [
    {
     "data": {
      "text/html": [
       "<div>\n",
       "<style scoped>\n",
       "    .dataframe tbody tr th:only-of-type {\n",
       "        vertical-align: middle;\n",
       "    }\n",
       "\n",
       "    .dataframe tbody tr th {\n",
       "        vertical-align: top;\n",
       "    }\n",
       "\n",
       "    .dataframe thead th {\n",
       "        text-align: right;\n",
       "    }\n",
       "</style>\n",
       "<table border=\"1\" class=\"dataframe\">\n",
       "  <thead>\n",
       "    <tr style=\"text-align: right;\">\n",
       "      <th></th>\n",
       "      <th>date</th>\n",
       "      <th>high</th>\n",
       "      <th>low</th>\n",
       "      <th>open</th>\n",
       "      <th>close</th>\n",
       "      <th>volume</th>\n",
       "      <th>adjclose</th>\n",
       "      <th>formatted_date</th>\n",
       "    </tr>\n",
       "  </thead>\n",
       "  <tbody>\n",
       "    <tr>\n",
       "      <th>0</th>\n",
       "      <td>662706000</td>\n",
       "      <td>5.796875</td>\n",
       "      <td>5.484375</td>\n",
       "      <td>5.796875</td>\n",
       "      <td>5.546875</td>\n",
       "      <td>37153600</td>\n",
       "      <td>2.631850</td>\n",
       "      <td>1991-01-01</td>\n",
       "    </tr>\n",
       "    <tr>\n",
       "      <th>1</th>\n",
       "      <td>663310800</td>\n",
       "      <td>5.671875</td>\n",
       "      <td>5.328125</td>\n",
       "      <td>5.546875</td>\n",
       "      <td>5.546875</td>\n",
       "      <td>42824800</td>\n",
       "      <td>2.631850</td>\n",
       "      <td>1991-01-08</td>\n",
       "    </tr>\n",
       "    <tr>\n",
       "      <th>2</th>\n",
       "      <td>663915600</td>\n",
       "      <td>6.078125</td>\n",
       "      <td>5.500000</td>\n",
       "      <td>5.546875</td>\n",
       "      <td>6.000000</td>\n",
       "      <td>67729600</td>\n",
       "      <td>2.846844</td>\n",
       "      <td>1991-01-15</td>\n",
       "    </tr>\n",
       "    <tr>\n",
       "      <th>3</th>\n",
       "      <td>664520400</td>\n",
       "      <td>6.140625</td>\n",
       "      <td>5.937500</td>\n",
       "      <td>6.000000</td>\n",
       "      <td>5.953125</td>\n",
       "      <td>27820800</td>\n",
       "      <td>2.824604</td>\n",
       "      <td>1991-01-22</td>\n",
       "    </tr>\n",
       "    <tr>\n",
       "      <th>4</th>\n",
       "      <td>665125200</td>\n",
       "      <td>6.093750</td>\n",
       "      <td>5.875000</td>\n",
       "      <td>5.953125</td>\n",
       "      <td>6.031250</td>\n",
       "      <td>32000000</td>\n",
       "      <td>2.861671</td>\n",
       "      <td>1991-01-29</td>\n",
       "    </tr>\n",
       "    <tr>\n",
       "      <th>...</th>\n",
       "      <td>...</td>\n",
       "      <td>...</td>\n",
       "      <td>...</td>\n",
       "      <td>...</td>\n",
       "      <td>...</td>\n",
       "      <td>...</td>\n",
       "      <td>...</td>\n",
       "      <td>...</td>\n",
       "    </tr>\n",
       "    <tr>\n",
       "      <th>517</th>\n",
       "      <td>975387600</td>\n",
       "      <td>31.687500</td>\n",
       "      <td>29.875000</td>\n",
       "      <td>29.937500</td>\n",
       "      <td>31.375000</td>\n",
       "      <td>45099600</td>\n",
       "      <td>16.876448</td>\n",
       "      <td>2000-11-28</td>\n",
       "    </tr>\n",
       "    <tr>\n",
       "      <th>518</th>\n",
       "      <td>975992400</td>\n",
       "      <td>31.531250</td>\n",
       "      <td>29.093750</td>\n",
       "      <td>31.375000</td>\n",
       "      <td>29.156250</td>\n",
       "      <td>44802000</td>\n",
       "      <td>15.727234</td>\n",
       "      <td>2000-12-05</td>\n",
       "    </tr>\n",
       "    <tr>\n",
       "      <th>519</th>\n",
       "      <td>976597200</td>\n",
       "      <td>29.343750</td>\n",
       "      <td>26.750000</td>\n",
       "      <td>29.156250</td>\n",
       "      <td>27.437500</td>\n",
       "      <td>63310600</td>\n",
       "      <td>14.800117</td>\n",
       "      <td>2000-12-12</td>\n",
       "    </tr>\n",
       "    <tr>\n",
       "      <th>520</th>\n",
       "      <td>977202000</td>\n",
       "      <td>29.812500</td>\n",
       "      <td>27.343750</td>\n",
       "      <td>27.437500</td>\n",
       "      <td>29.437500</td>\n",
       "      <td>44446800</td>\n",
       "      <td>15.878944</td>\n",
       "      <td>2000-12-19</td>\n",
       "    </tr>\n",
       "    <tr>\n",
       "      <th>521</th>\n",
       "      <td>977806800</td>\n",
       "      <td>30.968750</td>\n",
       "      <td>29.312500</td>\n",
       "      <td>29.437500</td>\n",
       "      <td>30.468750</td>\n",
       "      <td>23872200</td>\n",
       "      <td>16.435209</td>\n",
       "      <td>2000-12-26</td>\n",
       "    </tr>\n",
       "  </tbody>\n",
       "</table>\n",
       "<p>522 rows × 8 columns</p>\n",
       "</div>"
      ],
      "text/plain": [
       "          date       high        low       open      close    volume  \\\n",
       "0    662706000   5.796875   5.484375   5.796875   5.546875  37153600   \n",
       "1    663310800   5.671875   5.328125   5.546875   5.546875  42824800   \n",
       "2    663915600   6.078125   5.500000   5.546875   6.000000  67729600   \n",
       "3    664520400   6.140625   5.937500   6.000000   5.953125  27820800   \n",
       "4    665125200   6.093750   5.875000   5.953125   6.031250  32000000   \n",
       "..         ...        ...        ...        ...        ...       ...   \n",
       "517  975387600  31.687500  29.875000  29.937500  31.375000  45099600   \n",
       "518  975992400  31.531250  29.093750  31.375000  29.156250  44802000   \n",
       "519  976597200  29.343750  26.750000  29.156250  27.437500  63310600   \n",
       "520  977202000  29.812500  27.343750  27.437500  29.437500  44446800   \n",
       "521  977806800  30.968750  29.312500  29.437500  30.468750  23872200   \n",
       "\n",
       "      adjclose formatted_date  \n",
       "0     2.631850     1991-01-01  \n",
       "1     2.631850     1991-01-08  \n",
       "2     2.846844     1991-01-15  \n",
       "3     2.824604     1991-01-22  \n",
       "4     2.861671     1991-01-29  \n",
       "..         ...            ...  \n",
       "517  16.876448     2000-11-28  \n",
       "518  15.727234     2000-12-05  \n",
       "519  14.800117     2000-12-12  \n",
       "520  15.878944     2000-12-19  \n",
       "521  16.435209     2000-12-26  \n",
       "\n",
       "[522 rows x 8 columns]"
      ]
     },
     "execution_count": 7,
     "metadata": {},
     "output_type": "execute_result"
    }
   ],
   "source": [
    "coca_cola"
   ]
  },
  {
   "cell_type": "markdown",
   "id": "4b9e52bd",
   "metadata": {},
   "source": [
    "# 2.2"
   ]
  },
  {
   "cell_type": "code",
   "execution_count": 8,
   "id": "d191c7ff",
   "metadata": {},
   "outputs": [],
   "source": [
    "import math\n",
    "import numpy as np"
   ]
  },
  {
   "cell_type": "code",
   "execution_count": 9,
   "id": "ef7dd87c",
   "metadata": {},
   "outputs": [],
   "source": [
    "coca_cola_years = []\n",
    "years = ['1991-01-01', '1992-01-07', '1993-01-05', '1994-01-04', '1995-01-03', '1996-01-02', '1997-01-07', '1998-01-06', '1999-01-05', '2000-01-04', '2000-12-26']\n",
    "for i in range(len(coca_cola)):\n",
    "    if coca_cola.iloc[i, :]['formatted_date'] in years:\n",
    "        coca_cola_years.append(coca_cola.iloc[i, :]['open'])"
   ]
  },
  {
   "cell_type": "code",
   "execution_count": 10,
   "id": "bca79bcc",
   "metadata": {},
   "outputs": [
    {
     "data": {
      "text/plain": [
       "[5.796875,\n",
       " 10.328125,\n",
       " 10.5,\n",
       " 11.125,\n",
       " 12.875,\n",
       " 18.5625,\n",
       " 26.3125,\n",
       " 33.21875,\n",
       " 33.59375,\n",
       " 28.1875,\n",
       " 29.4375]"
      ]
     },
     "execution_count": 10,
     "metadata": {},
     "output_type": "execute_result"
    }
   ],
   "source": [
    "coca_cola_years"
   ]
  },
  {
   "cell_type": "markdown",
   "id": "74a25902",
   "metadata": {},
   "source": [
    "##### continuos return coca cola (yearly)"
   ]
  },
  {
   "cell_type": "code",
   "execution_count": 11,
   "id": "67af4d75",
   "metadata": {},
   "outputs": [],
   "source": [
    "returns_coca = np.log(np.array(coca_cola_years[1:])/np.array(coca_cola_years[:len(coca_cola_years)-1]))"
   ]
  },
  {
   "cell_type": "code",
   "execution_count": 12,
   "id": "82548353",
   "metadata": {},
   "outputs": [
    {
     "data": {
      "text/plain": [
       "array([ 0.57755178,  0.0165045 ,  0.05781957,  0.14609262,  0.36585597,\n",
       "        0.34890069,  0.23307036,  0.01122556, -0.17546142,  0.04339075])"
      ]
     },
     "execution_count": 12,
     "metadata": {},
     "output_type": "execute_result"
    }
   ],
   "source": [
    "returns_coca"
   ]
  },
  {
   "cell_type": "code",
   "execution_count": 13,
   "id": "d9d8ed61",
   "metadata": {},
   "outputs": [
    {
     "data": {
      "text/plain": [
       "10.328125"
      ]
     },
     "execution_count": 13,
     "metadata": {},
     "output_type": "execute_result"
    }
   ],
   "source": [
    "coca_cola_years[0]*(math.e **returns_coca[0])"
   ]
  },
  {
   "cell_type": "code",
   "execution_count": null,
   "id": "6da3817b",
   "metadata": {},
   "outputs": [],
   "source": []
  },
  {
   "cell_type": "code",
   "execution_count": 14,
   "id": "693bc73c",
   "metadata": {},
   "outputs": [],
   "source": [
    "microsoft_years = []\n",
    "years = ['1991-01-01', '1992-01-07', '1993-01-05', '1994-01-04', '1995-01-03', '1996-01-02', '1997-01-07', '1998-01-06', '1999-01-05', '2000-01-04', '2000-12-26']\n",
    "for i in range(len(microsoft)):\n",
    "    if microsoft.iloc[i, :]['formatted_date'] in years:\n",
    "        microsoft_years.append(microsoft.iloc[i, :]['open'])"
   ]
  },
  {
   "cell_type": "code",
   "execution_count": 15,
   "id": "30276f22",
   "metadata": {},
   "outputs": [
    {
     "data": {
      "text/plain": [
       "[1.0416669845581055,\n",
       " 2.4270830154418945,\n",
       " 2.65625,\n",
       " 2.507812976837158,\n",
       " 3.84375,\n",
       " 5.492187976837158,\n",
       " 10.5625,\n",
       " 16.21875,\n",
       " 35.46875,\n",
       " 56.78125,\n",
       " 23.4375]"
      ]
     },
     "execution_count": 15,
     "metadata": {},
     "output_type": "execute_result"
    }
   ],
   "source": [
    "microsoft_years"
   ]
  },
  {
   "cell_type": "markdown",
   "id": "83f74032",
   "metadata": {},
   "source": [
    " ##### continuos return coca cola (yearly)"
   ]
  },
  {
   "cell_type": "code",
   "execution_count": 16,
   "id": "48b14781",
   "metadata": {},
   "outputs": [],
   "source": [
    "returns_microsoft = np.log(np.array(microsoft_years[1:])/np.array(microsoft_years[:len(microsoft_years)-1]))"
   ]
  },
  {
   "cell_type": "code",
   "execution_count": 17,
   "id": "1f167566",
   "metadata": {},
   "outputs": [
    {
     "data": {
      "text/plain": [
       "array([ 0.84586783,  0.09022522, -0.0575043 ,  0.4270374 ,  0.35687826,\n",
       "        0.65398328,  0.42885799,  0.78248405,  0.47055414, -0.88486886])"
      ]
     },
     "execution_count": 17,
     "metadata": {},
     "output_type": "execute_result"
    }
   ],
   "source": [
    "returns_microsoft"
   ]
  },
  {
   "cell_type": "code",
   "execution_count": null,
   "id": "b612e91f",
   "metadata": {},
   "outputs": [],
   "source": []
  },
  {
   "cell_type": "code",
   "execution_count": null,
   "id": "a6175cd8",
   "metadata": {},
   "outputs": [],
   "source": []
  },
  {
   "cell_type": "code",
   "execution_count": 18,
   "id": "b2d11a08",
   "metadata": {},
   "outputs": [],
   "source": [
    "mcdonald_years = []\n",
    "years = ['1991-01-01', '1992-01-07', '1993-01-05', '1994-01-04', '1995-01-03', '1996-01-02', '1997-01-07', '1998-01-06', '1999-01-05', '2000-01-04', '2000-12-26']\n",
    "for i in range(len(mcdonald)):\n",
    "    if mcdonald.iloc[i, :]['formatted_date'] in years:\n",
    "        mcdonald_years.append(mcdonald.iloc[i, :]['open'])"
   ]
  },
  {
   "cell_type": "code",
   "execution_count": 19,
   "id": "36759af0",
   "metadata": {},
   "outputs": [
    {
     "data": {
      "text/plain": [
       "[7.28125,\n",
       " 10.0,\n",
       " 12.21875,\n",
       " 14.0,\n",
       " 14.625,\n",
       " 22.5,\n",
       " 22.125,\n",
       " 23.65625,\n",
       " 38.59375,\n",
       " 39.3125,\n",
       " 32.625]"
      ]
     },
     "execution_count": 19,
     "metadata": {},
     "output_type": "execute_result"
    }
   ],
   "source": [
    "mcdonald_years"
   ]
  },
  {
   "cell_type": "markdown",
   "id": "4b133f45",
   "metadata": {},
   "source": [
    "##### continuos return mcdonald (yearly)"
   ]
  },
  {
   "cell_type": "code",
   "execution_count": 20,
   "id": "af08b4ca",
   "metadata": {},
   "outputs": [],
   "source": [
    "returns_mcdonald = np.log(np.array(mcdonald_years[1:])/np.array(mcdonald_years[:len(mcdonald_years)-1]))"
   ]
  },
  {
   "cell_type": "code",
   "execution_count": 21,
   "id": "21240618",
   "metadata": {},
   "outputs": [
    {
     "data": {
      "text/plain": [
       "array([ 0.31728254,  0.20038656,  0.13608567,  0.04367506,  0.43078292,\n",
       "       -0.01680712,  0.06691916,  0.489463  ,  0.01845219, -0.18646367])"
      ]
     },
     "execution_count": 21,
     "metadata": {},
     "output_type": "execute_result"
    }
   ],
   "source": [
    "returns_mcdonald"
   ]
  },
  {
   "cell_type": "code",
   "execution_count": null,
   "id": "bae412c6",
   "metadata": {},
   "outputs": [],
   "source": []
  },
  {
   "cell_type": "markdown",
   "id": "a1d7805c",
   "metadata": {},
   "source": [
    "# 2.3"
   ]
  },
  {
   "cell_type": "code",
   "execution_count": 22,
   "id": "24c400e2",
   "metadata": {},
   "outputs": [
    {
     "data": {
      "text/plain": [
       "(0.16249503925288733, 0.31135150040346393, 0.14997763148768836)"
      ]
     },
     "execution_count": 22,
     "metadata": {},
     "output_type": "execute_result"
    }
   ],
   "source": [
    "import numpy as np\n",
    "np.mean(returns_coca),np.mean(returns_microsoft),np.mean(returns_mcdonald)"
   ]
  },
  {
   "cell_type": "code",
   "execution_count": 23,
   "id": "152d6c7a",
   "metadata": {},
   "outputs": [],
   "source": [
    "X = np.stack((returns_coca, returns_microsoft, returns_mcdonald ), axis=0)"
   ]
  },
  {
   "cell_type": "code",
   "execution_count": 24,
   "id": "dc99d79b",
   "metadata": {},
   "outputs": [
    {
     "data": {
      "text/plain": [
       "array([[ 0.57755178,  0.0165045 ,  0.05781957,  0.14609262,  0.36585597,\n",
       "         0.34890069,  0.23307036,  0.01122556, -0.17546142,  0.04339075],\n",
       "       [ 0.84586783,  0.09022522, -0.0575043 ,  0.4270374 ,  0.35687826,\n",
       "         0.65398328,  0.42885799,  0.78248405,  0.47055414, -0.88486886],\n",
       "       [ 0.31728254,  0.20038656,  0.13608567,  0.04367506,  0.43078292,\n",
       "        -0.01680712,  0.06691916,  0.489463  ,  0.01845219, -0.18646367]])"
      ]
     },
     "execution_count": 24,
     "metadata": {},
     "output_type": "execute_result"
    }
   ],
   "source": [
    "X"
   ]
  },
  {
   "cell_type": "code",
   "execution_count": 25,
   "id": "fbf61fa7",
   "metadata": {},
   "outputs": [
    {
     "data": {
      "text/plain": [
       "array([[0.04857531, 0.04329699, 0.01317784],\n",
       "       [0.04329699, 0.25506376, 0.06204964],\n",
       "       [0.01317784, 0.06204964, 0.04459274]])"
      ]
     },
     "execution_count": 25,
     "metadata": {},
     "output_type": "execute_result"
    }
   ],
   "source": [
    "np.cov(X)"
   ]
  },
  {
   "cell_type": "markdown",
   "id": "e4a9944c",
   "metadata": {},
   "source": [
    "# 2.4"
   ]
  },
  {
   "cell_type": "code",
   "execution_count": 26,
   "id": "f90f5b4f",
   "metadata": {},
   "outputs": [],
   "source": [
    "yearly_multiplier = np.diff(X) / X[:,:-1] + 1"
   ]
  },
  {
   "cell_type": "code",
   "execution_count": 27,
   "id": "4c29486f",
   "metadata": {},
   "outputs": [],
   "source": [
    "yearly_multiplier = X"
   ]
  },
  {
   "cell_type": "code",
   "execution_count": 28,
   "id": "ad0300d4",
   "metadata": {},
   "outputs": [
    {
     "name": "stdout",
     "output_type": "stream",
     "text": [
      "[[0.0, 0.0, 1.0], [0.0, 0.1, 0.9], [0.0, 0.2, 0.8], [0.0, 0.3, 0.7], [0.0, 0.4, 0.6], [0.0, 0.5, 0.5], [0.0, 0.6, 0.4], [0.0, 0.7, 0.3], [0.0, 0.8, 0.2], [0.0, 0.9, 0.1], [0.0, 1.0, 0.0], [0.1, 0.0, 0.9], [0.1, 0.1, 0.8], [0.1, 0.2, 0.7], [0.1, 0.3, 0.6], [0.1, 0.4, 0.5], [0.1, 0.5, 0.4], [0.1, 0.6, 0.3], [0.1, 0.7, 0.2], [0.1, 0.8, 0.1], [0.1, 0.9, 0.0], [0.2, 0.0, 0.8], [0.2, 0.1, 0.7], [0.2, 0.2, 0.6], [0.2, 0.3, 0.5], [0.2, 0.4, 0.4], [0.2, 0.5, 0.3], [0.2, 0.6, 0.2], [0.2, 0.8, 0.0], [0.3, 0.0, 0.7], [0.3, 0.1, 0.6], [0.3, 0.2, 0.5], [0.3, 0.3, 0.4], [0.3, 0.4, 0.3], [0.3, 0.5, 0.2], [0.3, 0.7, 0.0], [0.4, 0.0, 0.6], [0.4, 0.1, 0.5], [0.4, 0.2, 0.4], [0.4, 0.3, 0.3], [0.4, 0.4, 0.2], [0.4, 0.5, 0.1], [0.4, 0.6, 0.0], [0.5, 0.0, 0.5], [0.5, 0.1, 0.4], [0.5, 0.2, 0.3], [0.5, 0.3, 0.2], [0.5, 0.4, 0.1], [0.5, 0.5, 0.0], [0.6, 0.0, 0.4], [0.6, 0.1, 0.3], [0.6, 0.2, 0.2], [0.6, 0.4, 0.0], [0.7, 0.0, 0.3], [0.7, 0.1, 0.2], [0.7, 0.3, 0.0], [0.8, 0.0, 0.2], [0.8, 0.1, 0.1], [0.8, 0.2, 0.0], [0.9, 0.0, 0.1], [0.9, 0.1, 0.0], [1.0, 0.0, 0.0]]\n"
     ]
    }
   ],
   "source": [
    "weights = np.round([*np.arange(0,1.1,0.1)], 1)\n",
    "# kinda crappy but whatever\n",
    "portfolio_weights = []\n",
    "for a in weights:\n",
    "    for b in weights:\n",
    "        for c in weights:\n",
    "            if a+b+c == 1:\n",
    "                portfolio_weights.append([a, b, c])\n",
    "print(portfolio_weights)"
   ]
  },
  {
   "cell_type": "markdown",
   "id": "d7708f8c",
   "metadata": {},
   "source": [
    "## 2.4.1"
   ]
  },
  {
   "cell_type": "code",
   "execution_count": 29,
   "id": "8fd83787",
   "metadata": {},
   "outputs": [],
   "source": [
    "mean_coca = np.mean(X[0])\n",
    "mean_microsoft = np.mean(X[1])\n",
    "mean_mcdonald = np.mean(X[2])"
   ]
  },
  {
   "cell_type": "code",
   "execution_count": 30,
   "id": "c35973f6",
   "metadata": {},
   "outputs": [
    {
     "data": {
      "text/plain": [
       "array([0.16249504, 0.3113515 , 0.14997763])"
      ]
     },
     "execution_count": 30,
     "metadata": {},
     "output_type": "execute_result"
    }
   ],
   "source": [
    "mean_array= np.stack((mean_coca, mean_microsoft, mean_mcdonald ), axis=0)\n",
    "mean_array"
   ]
  },
  {
   "cell_type": "code",
   "execution_count": 62,
   "id": "ccae97ed",
   "metadata": {},
   "outputs": [],
   "source": [
    "means = []\n",
    "standard_deviations = []\n",
    "\n",
    "for weight in portfolio_weights:\n",
    "    means.append(np.dot(mean_array,weight))\n",
    "    standard_deviations.append(np.sqrt(np.dot(np.array(weight).T , np.dot(np.cov(X), weight))))"
   ]
  },
  {
   "cell_type": "code",
   "execution_count": 63,
   "id": "ae0a3328",
   "metadata": {},
   "outputs": [
    {
     "data": {
      "text/plain": [
       "[0.2111699393972638,\n",
       " 0.2232480551295143,\n",
       " 0.24206980328607083,\n",
       " 0.2662086210786255,\n",
       " 0.2943593296296029,\n",
       " 0.32548263344328376,\n",
       " 0.3588058237210492,\n",
       " 0.393770794154272,\n",
       " 0.4299772113163805,\n",
       " 0.4671365013609152,\n",
       " 0.5050383790226256,\n",
       " 0.19742818207993565,\n",
       " 0.21089827649266205,\n",
       " 0.2312778063402155,\n",
       " 0.25692782860813057,\n",
       " 0.28643592520983724,\n",
       " 0.3187323549910203,\n",
       " 0.3530527350343117,\n",
       " 0.3888615409655137,\n",
       " 0.4257834039728647,\n",
       " 0.46355243596075,\n",
       " 0.1862774226037386,\n",
       " 0.2011286137132145,\n",
       " 0.2229737766336815,\n",
       " 0.2499860708282646,\n",
       " 0.28067759240773243,\n",
       " 0.3139712261995166,\n",
       " 0.34912332436036797,\n",
       " 0.423129837359867,\n",
       " 0.17820470415383227,\n",
       " 0.19432859490816848,\n",
       " 0.21744294365463093,\n",
       " 0.24558177746155915,\n",
       " 0.27721928112407035,\n",
       " 0.31129053143726315,\n",
       " 0.3841064428292344,\n",
       " 0.173639863831372,\n",
       " 0.19081596804755646,\n",
       " 0.2148995340670951,\n",
       " 0.24385247702732663,\n",
       " 0.27614741731953785,\n",
       " 0.3107441171799055,\n",
       " 0.3469546964105928,\n",
       " 0.17286102903303388,\n",
       " 0.19077240849511906,\n",
       " 0.21544937469734646,\n",
       " 0.24485485292659895,\n",
       " 0.27748965688060345,\n",
       " 0.3123431847815852,\n",
       " 0.1759184917042572,\n",
       " 0.19420025062365529,\n",
       " 0.2190691755835587,\n",
       " 0.28121143393777315,\n",
       " 0.1826196687293066,\n",
       " 0.20092190064727125,\n",
       " 0.2548379442996507,\n",
       " 0.19258457468930898,\n",
       " 0.21062224549010203,\n",
       " 0.23483140103509026,\n",
       " 0.20533860018973982,\n",
       " 0.2229127581567128,\n",
       " 0.22039807250895152]"
      ]
     },
     "execution_count": 63,
     "metadata": {},
     "output_type": "execute_result"
    }
   ],
   "source": [
    "standard_deviations"
   ]
  },
  {
   "cell_type": "code",
   "execution_count": 64,
   "id": "ba5eb3f6",
   "metadata": {},
   "outputs": [
    {
     "data": {
      "text/plain": [
       "[0.14997763148768836,\n",
       " 0.16611501837926593,\n",
       " 0.18225240527084346,\n",
       " 0.19838979216242103,\n",
       " 0.2145271790539986,\n",
       " 0.23066456594557616,\n",
       " 0.2468019528371537,\n",
       " 0.26293933972873124,\n",
       " 0.2790767266203088,\n",
       " 0.29521411351188637,\n",
       " 0.31135150040346393,\n",
       " 0.15122937226420827,\n",
       " 0.1673667591557858,\n",
       " 0.18350414604736337,\n",
       " 0.19964153293894094,\n",
       " 0.2157789198305185,\n",
       " 0.23191630672209604,\n",
       " 0.2480536936136736,\n",
       " 0.26419108050525114,\n",
       " 0.2803284673968287,\n",
       " 0.29646585428840627,\n",
       " 0.15248111304072814,\n",
       " 0.1686184999323057,\n",
       " 0.18475588682388328,\n",
       " 0.20089327371546084,\n",
       " 0.21703066060703838,\n",
       " 0.23316804749861594,\n",
       " 0.2493054343901935,\n",
       " 0.2815802081733486,\n",
       " 0.15373285381724805,\n",
       " 0.16987024070882561,\n",
       " 0.18600762760040318,\n",
       " 0.20214501449198072,\n",
       " 0.21828240138355828,\n",
       " 0.23441978827513585,\n",
       " 0.26669456205829095,\n",
       " 0.15498459459376795,\n",
       " 0.17112198148534552,\n",
       " 0.18725936837692306,\n",
       " 0.20339675526850062,\n",
       " 0.2195341421600782,\n",
       " 0.23567152905165573,\n",
       " 0.2518089159432333,\n",
       " 0.15623633537028786,\n",
       " 0.1723737222618654,\n",
       " 0.18851110915344296,\n",
       " 0.20464849604502053,\n",
       " 0.22078588293659807,\n",
       " 0.23692326982817563,\n",
       " 0.15748807614680774,\n",
       " 0.1736254630383853,\n",
       " 0.18976284992996287,\n",
       " 0.22203762371311797,\n",
       " 0.15873981692332761,\n",
       " 0.1748772038149052,\n",
       " 0.2071519775980603,\n",
       " 0.15999155769984755,\n",
       " 0.17612894459142509,\n",
       " 0.19226633148300265,\n",
       " 0.16124329847636742,\n",
       " 0.177380685367945,\n",
       " 0.16249503925288733]"
      ]
     },
     "execution_count": 64,
     "metadata": {},
     "output_type": "execute_result"
    }
   ],
   "source": [
    "means"
   ]
  },
  {
   "cell_type": "code",
   "execution_count": 65,
   "id": "ce3fa80f",
   "metadata": {},
   "outputs": [
    {
     "data": {
      "text/plain": [
       "'yearly_returns = []\\nmeans = []\\nstandard_deviations = []\\n\\nfor weight in portfolio_weights:\\n    yearly_returns_of_portfolio = (yearly_multiplier.T*weight).sum(axis=1)\\n    yearly_returns.append(yearly_returns_of_portfolio)\\n    means.append(np.mean(yearly_returns_of_portfolio))\\n    standard_deviations.append(np.std(yearly_returns_of_portfolio))'"
      ]
     },
     "execution_count": 65,
     "metadata": {},
     "output_type": "execute_result"
    }
   ],
   "source": [
    "'''yearly_returns = []\n",
    "means = []\n",
    "standard_deviations = []\n",
    "\n",
    "for weight in portfolio_weights:\n",
    "    yearly_returns_of_portfolio = (yearly_multiplier.T*weight).sum(axis=1)\n",
    "    yearly_returns.append(yearly_returns_of_portfolio)\n",
    "    means.append(np.mean(yearly_returns_of_portfolio))\n",
    "    standard_deviations.append(np.std(yearly_returns_of_portfolio))'''"
   ]
  },
  {
   "cell_type": "code",
   "execution_count": 66,
   "id": "ecd6a2b5",
   "metadata": {},
   "outputs": [
    {
     "data": {
      "text/plain": [
       "Text(0, 0.5, 'mean')"
      ]
     },
     "execution_count": 66,
     "metadata": {},
     "output_type": "execute_result"
    },
    {
     "data": {
      "image/png": "[encoded data removed]",
      "text/plain": [
       "<Figure size 432x288 with 1 Axes>"
      ]
     },
     "metadata": {
      "needs_background": "light"
     },
     "output_type": "display_data"
    }
   ],
   "source": [
    "import matplotlib.pyplot as plt\n",
    "from matplotlib.lines import Line2D\n",
    "\n",
    "def legend_element(label, color):\n",
    "    return Line2D([0], [0], marker='o', color='w', label=label, markerfacecolor=color, markersize=8)\n",
    "\n",
    "\n",
    "plt.scatter(standard_deviations, means, color=portfolio_weights)\n",
    "plt.legend(handles=[legend_element('Coca Cola', [0,0,1]), \n",
    "                    legend_element('Microsoft', [0,1,0]), \n",
    "                    legend_element(\"McDonald's\", [1,0,0])])\n",
    "plt.xlabel(\"standard deviation\")\n",
    "plt.ylabel(\"mean\")"
   ]
  },
  {
   "cell_type": "markdown",
   "id": "6d6f8e90",
   "metadata": {},
   "source": [
    "## 2.4.2"
   ]
  },
  {
   "cell_type": "code",
   "execution_count": 67,
   "id": "9b5ad9e2",
   "metadata": {},
   "outputs": [],
   "source": [
    "def weight_to_text(weight):\n",
    "    return str(round(weight[0]*100)) + \"% McDonald's, \" + str(round(weight[1]*100)) + \"% Microsoft, \" + str(round(weight[2]*100)) + \"% Cola Cola\""
   ]
  },
  {
   "cell_type": "code",
   "execution_count": 68,
   "id": "01a29542",
   "metadata": {},
   "outputs": [
    {
     "name": "stdout",
     "output_type": "stream",
     "text": [
      "maximal mean: 0% McDonald's, 100% Microsoft, 0% Cola Cola\n"
     ]
    }
   ],
   "source": [
    "print(\"maximal mean: \" + weight_to_text(portfolio_weights[means.index(max(means))]))"
   ]
  },
  {
   "cell_type": "markdown",
   "id": "8d5f8bf7",
   "metadata": {},
   "source": [
    "## 2.4.3"
   ]
  },
  {
   "cell_type": "code",
   "execution_count": 69,
   "id": "c5093179",
   "metadata": {},
   "outputs": [
    {
     "name": "stdout",
     "output_type": "stream",
     "text": [
      "lowest standard deviation: 50% McDonald's, 0% Microsoft, 50% Cola Cola\n"
     ]
    }
   ],
   "source": [
    "print(\"lowest standard deviation: \" + weight_to_text(portfolio_weights[standard_deviations.index(min(standard_deviations))]))"
   ]
  },
  {
   "cell_type": "markdown",
   "id": "342a5f7f",
   "metadata": {},
   "source": [
    "## 2.4.4"
   ]
  },
  {
   "cell_type": "markdown",
   "id": "ce934998",
   "metadata": {},
   "source": [
    "This portfolio is interesting because it maximizes returns and minimizes volatility"
   ]
  },
  {
   "cell_type": "code",
   "execution_count": 70,
   "id": "972036ad",
   "metadata": {},
   "outputs": [
    {
     "name": "stdout",
     "output_type": "stream",
     "text": [
      "highest ratio of mean to standard deviation: 50% McDonald's, 0% Microsoft, 50% Cola Cola\n"
     ]
    }
   ],
   "source": [
    "mean_stdev_ratio = [mean / standard_deviation for mean, standard_deviation in zip(means, standard_deviations)]\n",
    "\n",
    "print(\"highest ratio of mean to standard deviation: \" + weight_to_text(portfolio_weights[mean_stdev_ratio.index(max(mean_stdev_ratio))]))"
   ]
  },
  {
   "cell_type": "code",
   "execution_count": null,
   "id": "0a890306",
   "metadata": {},
   "outputs": [],
   "source": []
  },
  {
   "cell_type": "code",
   "execution_count": null,
   "id": "e5287cff",
   "metadata": {},
   "outputs": [],
   "source": []
  },
  {
   "cell_type": "code",
   "execution_count": null,
   "id": "fd49fbe7",
   "metadata": {},
   "outputs": [],
   "source": []
  }
 ],
 "metadata": {
  "kernelspec": {
   "display_name": "Python 3 (ipykernel)",
   "language": "python",
   "name": "python3"
  },
  "language_info": {
   "codemirror_mode": {
    "name": "ipython",
    "version": 3
   },
   "file_extension": ".py",
   "mimetype": "text/x-python",
   "name": "python",
   "nbconvert_exporter": "python",
   "pygments_lexer": "ipython3",
   "version": "3.10.5"
  },
  "vscode": {
   "interpreter": {
    "hash": "916dbcbb3f70747c44a77c7bcd40155683ae19c65e1c03b4aa3499c5328201f1"
   }
  }
 },
 "nbformat": 4,
 "nbformat_minor": 5
}
