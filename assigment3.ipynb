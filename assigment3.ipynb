{
 "cells": [
  {
   "cell_type": "code",
   "execution_count": null,
   "id": "4b113c3e",
   "metadata": {},
   "outputs": [],
   "source": [
    "#import yfinance as yf\n",
    "from yahoofinancials import YahooFinancials\n",
    "import pandas as pd\n",
    "\n",
    "yahoo_financials = YahooFinancials('MCD')\n",
    "\n",
    "data = yahoo_financials.get_historical_price_data(start_date='1991-01-01', \n",
    "                                                  end_date='2001-01-01', \n",
    "                                                  time_interval='weekly')"
   ]
  },
  {
   "cell_type": "code",
   "execution_count": null,
   "id": "fe6e5718",
   "metadata": {},
   "outputs": [],
   "source": [
    "mcdonald = pd.DataFrame(data[\"MCD\"]['prices'])"
   ]
  },
  {
   "cell_type": "code",
   "execution_count": null,
   "id": "135fc955",
   "metadata": {},
   "outputs": [],
   "source": [
    "mcdonald"
   ]
  },
  {
   "cell_type": "code",
   "execution_count": null,
   "id": "2aebf4b9",
   "metadata": {},
   "outputs": [],
   "source": [
    "yahoo_financials = YahooFinancials('MSFT')\n",
    "\n",
    "data = yahoo_financials.get_historical_price_data(start_date='1991-01-01', \n",
    "                                                  end_date='2001-01-01', \n",
    "                                                  time_interval='weekly')\n",
    "microsoft = pd.DataFrame(data[\"MSFT\"]['prices'])"
   ]
  },
  {
   "cell_type": "code",
   "execution_count": null,
   "id": "9fe317e5",
   "metadata": {},
   "outputs": [],
   "source": [
    "microsoft"
   ]
  },
  {
   "cell_type": "code",
   "execution_count": null,
   "id": "78707170",
   "metadata": {},
   "outputs": [],
   "source": [
    "yahoo_financials = YahooFinancials('KO')\n",
    "\n",
    "data = yahoo_financials.get_historical_price_data(start_date='1991-01-01', \n",
    "                                                  end_date='2001-01-01', \n",
    "                                                  time_interval='weekly')\n",
    "coca_cola = pd.DataFrame(data[\"KO\"]['prices'])"
   ]
  },
  {
   "cell_type": "code",
   "execution_count": null,
   "id": "17a7c02c",
   "metadata": {},
   "outputs": [],
   "source": [
    "coca_cola"
   ]
  },
  {
   "cell_type": "markdown",
   "id": "4b9e52bd",
   "metadata": {},
   "source": [
    "# 2.2"
   ]
  },
  {
   "cell_type": "code",
   "execution_count": null,
   "id": "d191c7ff",
   "metadata": {},
   "outputs": [],
   "source": [
    "import math"
   ]
  },
  {
   "cell_type": "code",
   "execution_count": null,
   "id": "45a25fd0",
   "metadata": {},
   "outputs": [],
   "source": [
    "abs(coca_cola.iloc[0, :]['open'] - coca_cola.iloc[-1, :]['open']) #difference in dollars"
   ]
  },
  {
   "cell_type": "code",
   "execution_count": null,
   "id": "55133161",
   "metadata": {},
   "outputs": [],
   "source": [
    "abs(microsoft.iloc[0, :]['open'] - microsoft.iloc[-1, :]['open'])"
   ]
  },
  {
   "cell_type": "code",
   "execution_count": null,
   "id": "2cc4debe",
   "metadata": {},
   "outputs": [],
   "source": [
    "abs(mcdonald.iloc[0, :]['open'] - mcdonald.iloc[-1, :]['open'])"
   ]
  },
  {
   "cell_type": "markdown",
   "id": "a1d7805c",
   "metadata": {},
   "source": [
    "# 2.3"
   ]
  },
  {
   "cell_type": "code",
   "execution_count": null,
   "id": "cc5a7b4e",
   "metadata": {},
   "outputs": [],
   "source": [
    "#yearly returns\n",
    "#abs(coca_cola.iloc[0, :]['open'] - coca_cola.iloc[-1, :]['open'])"
   ]
  },
  {
   "cell_type": "code",
   "execution_count": null,
   "id": "3c98531e",
   "metadata": {},
   "outputs": [],
   "source": [
    "coca_cola_years = []\n",
    "years = ['1991-01-01', '1992-01-07', '1993-01-05', '1994-01-04', '1995-01-03', '1996-01-02', '1997-01-07', '1998-01-06', '1999-01-05', '2000-01-04', '2000-12-26']\n",
    "for i in range(len(coca_cola)):\n",
    "    if coca_cola.iloc[i, :]['formatted_date'] in years:\n",
    "        coca_cola_years.append(coca_cola.iloc[i, :]['open'])"
   ]
  },
  {
   "cell_type": "code",
   "execution_count": null,
   "id": "3c3b0b1f",
   "metadata": {},
   "outputs": [],
   "source": [
    "coca_cola_years"
   ]
  },
  {
   "cell_type": "code",
   "execution_count": null,
   "id": "e0e7c0c6",
   "metadata": {},
   "outputs": [],
   "source": [
    "microsoft_years = []\n",
    "years = ['1991-01-01', '1992-01-07', '1993-01-05', '1994-01-04', '1995-01-03', '1996-01-02', '1997-01-07', '1998-01-06', '1999-01-05', '2000-01-04', '2000-12-26']\n",
    "for i in range(len(microsoft)):\n",
    "    if microsoft.iloc[i, :]['formatted_date'] in years:\n",
    "        microsoft_years.append(microsoft.iloc[i, :]['open'])"
   ]
  },
  {
   "cell_type": "code",
   "execution_count": null,
   "id": "866d91c3",
   "metadata": {},
   "outputs": [],
   "source": [
    "microsoft_years"
   ]
  },
  {
   "cell_type": "code",
   "execution_count": null,
   "id": "6e1c54ae",
   "metadata": {},
   "outputs": [],
   "source": [
    "mcdonald_years = []\n",
    "years = ['1991-01-01', '1992-01-07', '1993-01-05', '1994-01-04', '1995-01-03', '1996-01-02', '1997-01-07', '1998-01-06', '1999-01-05', '2000-01-04', '2000-12-26']\n",
    "for i in range(len(mcdonald)):\n",
    "    if mcdonald.iloc[i, :]['formatted_date'] in years:\n",
    "        mcdonald_years.append(mcdonald.iloc[i, :]['open'])"
   ]
  },
  {
   "cell_type": "code",
   "execution_count": null,
   "id": "5be1825b",
   "metadata": {},
   "outputs": [],
   "source": [
    "mcdonald_years"
   ]
  },
  {
   "cell_type": "code",
   "execution_count": null,
   "id": "24c400e2",
   "metadata": {},
   "outputs": [],
   "source": [
    "import numpy as np\n",
    "np.mean(coca_cola_years),np.mean(microsoft_years),np.mean(mcdonald_years)"
   ]
  },
  {
   "cell_type": "code",
   "execution_count": null,
   "id": "152d6c7a",
   "metadata": {},
   "outputs": [],
   "source": [
    "X = np.stack((coca_cola_years, microsoft_years, mcdonald_years ), axis=0)"
   ]
  },
  {
   "cell_type": "code",
   "execution_count": null,
   "id": "dc99d79b",
   "metadata": {},
   "outputs": [],
   "source": [
    "X"
   ]
  },
  {
   "cell_type": "code",
   "execution_count": null,
   "id": "fbf61fa7",
   "metadata": {},
   "outputs": [],
   "source": [
    "np.cov(X)"
   ]
  },
  {
   "cell_type": "markdown",
   "id": "e4a9944c",
   "metadata": {},
   "source": [
    "# 2.4"
   ]
  },
  {
   "cell_type": "code",
   "execution_count": 169,
   "id": "f90f5b4f",
   "metadata": {},
   "outputs": [],
   "source": [
    "yearly_multiplier = np.diff(X) / X[:,:-1] + 1"
   ]
  },
  {
   "cell_type": "code",
   "execution_count": 170,
   "id": "ad0300d4",
   "metadata": {},
   "outputs": [
    {
     "name": "stdout",
     "output_type": "stream",
     "text": [
      "[[0.0, 0.0, 1.0], [0.0, 0.1, 0.9], [0.0, 0.2, 0.8], [0.0, 0.3, 0.7], [0.0, 0.4, 0.6], [0.0, 0.5, 0.5], [0.0, 0.6, 0.4], [0.0, 0.7, 0.3], [0.0, 0.8, 0.2], [0.0, 0.9, 0.1], [0.0, 1.0, 0.0], [0.1, 0.0, 0.9], [0.1, 0.1, 0.8], [0.1, 0.2, 0.7], [0.1, 0.3, 0.6], [0.1, 0.4, 0.5], [0.1, 0.5, 0.4], [0.1, 0.6, 0.3], [0.1, 0.7, 0.2], [0.1, 0.8, 0.1], [0.1, 0.9, 0.0], [0.2, 0.0, 0.8], [0.2, 0.1, 0.7], [0.2, 0.2, 0.6], [0.2, 0.3, 0.5], [0.2, 0.4, 0.4], [0.2, 0.5, 0.3], [0.2, 0.6, 0.2], [0.2, 0.8, 0.0], [0.3, 0.0, 0.7], [0.3, 0.1, 0.6], [0.3, 0.2, 0.5], [0.3, 0.3, 0.4], [0.3, 0.4, 0.3], [0.3, 0.5, 0.2], [0.3, 0.7, 0.0], [0.4, 0.0, 0.6], [0.4, 0.1, 0.5], [0.4, 0.2, 0.4], [0.4, 0.3, 0.3], [0.4, 0.4, 0.2], [0.4, 0.5, 0.1], [0.4, 0.6, 0.0], [0.5, 0.0, 0.5], [0.5, 0.1, 0.4], [0.5, 0.2, 0.3], [0.5, 0.3, 0.2], [0.5, 0.4, 0.1], [0.5, 0.5, 0.0], [0.6, 0.0, 0.4], [0.6, 0.1, 0.3], [0.6, 0.2, 0.2], [0.6, 0.4, 0.0], [0.7, 0.0, 0.3], [0.7, 0.1, 0.2], [0.7, 0.3, 0.0], [0.8, 0.0, 0.2], [0.8, 0.1, 0.1], [0.8, 0.2, 0.0], [0.9, 0.0, 0.1], [0.9, 0.1, 0.0], [1.0, 0.0, 0.0]]\n"
     ]
    }
   ],
   "source": [
    "weights = np.round([*np.arange(0,1.1,0.1)], 1)\n",
    "# kinda crappy but whatever\n",
    "portfolio_weights = []\n",
    "for a in weights:\n",
    "    for b in weights:\n",
    "        for c in weights:\n",
    "            if a+b+c == 1:\n",
    "                portfolio_weights.append([a, b, c])\n",
    "print(portfolio_weights)"
   ]
  },
  {
   "cell_type": "markdown",
   "id": "d7708f8c",
   "metadata": {},
   "source": [
    "## 2.4.1"
   ]
  },
  {
   "cell_type": "code",
   "execution_count": 171,
   "id": "ce3fa80f",
   "metadata": {},
   "outputs": [],
   "source": [
    "yearly_returns = []\n",
    "means = []\n",
    "standard_deviations = []\n",
    "\n",
    "for weight in portfolio_weights:\n",
    "    yearly_returns_of_portfolio = (yearly_multiplier.T*weight).sum(axis=1)\n",
    "    yearly_returns.append(yearly_returns_of_portfolio)\n",
    "    means.append(np.mean(yearly_returns_of_portfolio))\n",
    "    standard_deviations.append(np.std(yearly_returns_of_portfolio))"
   ]
  },
  {
   "cell_type": "code",
   "execution_count": 173,
   "id": "ecd6a2b5",
   "metadata": {},
   "outputs": [
    {
     "data": {
      "text/plain": [
       "Text(0, 0.5, 'mean')"
      ]
     },
     "execution_count": 173,
     "metadata": {},
     "output_type": "execute_result"
    },
    {
     "data": {
      "image/png": "[encoded data removed]",
      "text/plain": [
       "<Figure size 640x480 with 1 Axes>"
      ]
     },
     "metadata": {},
     "output_type": "display_data"
    }
   ],
   "source": [
    "import matplotlib.pyplot as plt\n",
    "\n",
    "def legend_element(label, color):\n",
    "    return Line2D([0], [0], marker='o', color='w', label=label, markerfacecolor=color, markersize=8)\n",
    "\n",
    "\n",
    "plt.scatter(standard_deviations, means, color=portfolio_weights)\n",
    "plt.legend(handles=[legend_element('Coca Cola', [0,0,1]), \n",
    "                    legend_element('Microsoft', [0,1,0]), \n",
    "                    legend_element(\"McDonald's\", [1,0,0])])\n",
    "plt.xlabel(\"standard deviation\")\n",
    "plt.ylabel(\"mean\")"
   ]
  },
  {
   "cell_type": "markdown",
   "id": "6d6f8e90",
   "metadata": {},
   "source": [
    "## 2.4.2"
   ]
  },
  {
   "cell_type": "code",
   "execution_count": 174,
   "id": "9b5ad9e2",
   "metadata": {},
   "outputs": [],
   "source": [
    "def weight_to_text(weight):\n",
    "    return str(round(weight[0]*100)) + \"% McDonald's, \" + str(round(weight[1]*100)) + \"% Microsoft, \" + str(round(weight[2]*100)) + \"% Cola Cola\""
   ]
  },
  {
   "cell_type": "code",
   "execution_count": 175,
   "id": "01a29542",
   "metadata": {},
   "outputs": [
    {
     "name": "stdout",
     "output_type": "stream",
     "text": [
      "maximal mean: 0% McDonald's, 100% Microsoft, 0% Cola Cola\n"
     ]
    }
   ],
   "source": [
    "print(\"maximal mean: \" + weight_to_text(portfolio_weights[means.index(max(means))]))"
   ]
  },
  {
   "cell_type": "markdown",
   "id": "8d5f8bf7",
   "metadata": {},
   "source": [
    "## 2.4.3"
   ]
  },
  {
   "cell_type": "code",
   "execution_count": 176,
   "id": "c5093179",
   "metadata": {},
   "outputs": [
    {
     "name": "stdout",
     "output_type": "stream",
     "text": [
      "lowest standard deviation: 40% McDonald's, 0% Microsoft, 60% Cola Cola\n"
     ]
    }
   ],
   "source": [
    "print(\"lowest standard deviation: \" + weight_to_text(portfolio_weights[standard_deviations.index(min(standard_deviations))]))"
   ]
  },
  {
   "cell_type": "markdown",
   "id": "342a5f7f",
   "metadata": {},
   "source": [
    "## 2.4.4"
   ]
  },
  {
   "cell_type": "markdown",
   "id": "ce934998",
   "metadata": {},
   "source": [
    "This portfolio is interesting because it maximizes returns and minimizes volatility"
   ]
  },
  {
   "cell_type": "code",
   "execution_count": 177,
   "id": "972036ad",
   "metadata": {},
   "outputs": [
    {
     "name": "stdout",
     "output_type": "stream",
     "text": [
      "highest ratio of mean to standard deviation: 50% McDonald's, 0% Microsoft, 50% Cola Cola\n"
     ]
    }
   ],
   "source": [
    "mean_stdev_ratio = [mean / standard_deviation for mean, standard_deviation in zip(means, standard_deviations)]\n",
    "\n",
    "print(\"highest ratio of mean to standard deviation: \" + weight_to_text(portfolio_weights[mean_stdev_ratio.index(max(mean_stdev_ratio))]))"
   ]
  },
  {
   "cell_type": "code",
   "execution_count": null,
   "id": "0a890306",
   "metadata": {},
   "outputs": [],
   "source": []
  }
 ],
 "metadata": {
  "kernelspec": {
   "display_name": "Python 3.10.4 64-bit",
   "language": "python",
   "name": "python3"
  },
  "language_info": {
   "codemirror_mode": {
    "name": "ipython",
    "version": 3
   },
   "file_extension": ".py",
   "mimetype": "text/x-python",
   "name": "python",
   "nbconvert_exporter": "python",
   "pygments_lexer": "ipython3",
   "version": "3.10.4"
  },
  "vscode": {
   "interpreter": {
    "hash": "916dbcbb3f70747c44a77c7bcd40155683ae19c65e1c03b4aa3499c5328201f1"
   }
  }
 },
 "nbformat": 4,
 "nbformat_minor": 5
}
